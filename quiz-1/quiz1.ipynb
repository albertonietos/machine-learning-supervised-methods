{
 "cells": [
  {
   "cell_type": "markdown",
   "metadata": {},
   "source": [
    "# Quiz 1\n",
    "Notebook containing the answers for quiz 1 in ML: Supervised Methods"
   ]
  },
  {
   "cell_type": "markdown",
   "metadata": {},
   "source": [
    "## Question 1\n",
    "Assume that there is a labeling function $f : \\mathcal{X} \\rightarrow \\mathcal{Y}$, where probability distribution over $\\mathcal{X}$ is\n",
    "denoted by \\mathcal{D}. \n",
    "The Error of a classifier $h : \\mathcal{X} \\rightarrow \\mathcal{Y}$ can be defined as:\n",
    "$$ L_{\\mathcal{D,f}} (h)\\stackrel{\\text{def}}{=} \\mathbb{P}\\sim [h(x) \\neq f(x)]$$ \n",
    "where in the learner, $x$ is assumed to be a randomly chosen example\n",
    "from an **unknown distribution $\\mathcal{D}$**.\n"
   ]
  },
  {
   "cell_type": "markdown",
   "metadata": {},
   "source": [
    "## Question 2\n",
    "What is the probability of having more than 10 noisy examples, in a sample of 35 drawn uniformly\n",
    "from a distribution with 20% inherent noise."
   ]
  },
  {
   "cell_type": "code",
   "execution_count": 3,
   "metadata": {},
   "outputs": [
    {
     "name": "stdout",
     "output_type": "stream",
     "text": [
      "probability of sampling 10 or less noisy examples: 0.93\n",
      "probability of sampling more than 10 noisy examples:  0.07\n"
     ]
    }
   ],
   "source": [
    "import numpy as np\n",
    "import math\n",
    "def binom(n, k):\n",
    "    #computes the binomial coefficient\n",
    "    return math.factorial(n) // math.factorial(k) // math.factorial(n - k)\n",
    "n=35\n",
    "p=0.2\n",
    "sum_prob=0\n",
    "#sums up the probability of the cases where we have 10 or less noisy example\n",
    "for N in range(11):\n",
    "    sum_prob+=(binom(n, N)*np.power(p,N)*np.power(1-p,n-N))\n",
    "print(\"probability of sampling 10 or less noisy examples:\",np.round(sum_prob,2))\n",
    "print(\"probability of sampling more than 10 noisy examples: \",np.round(1-sum_prob,2))"
   ]
  },
  {
   "cell_type": "markdown",
   "metadata": {},
   "source": [
    "# Question 3\n",
    "In each of the following problems which measure should be prioritized for evaluating a classifier.\n",
    "\n",
    "A) Cancer prediction (positive: cancer, negative: healthy). The patients with positive prediction will go through more analysis, and the negative ones will be sent home.\n",
    "\n",
    "*In the case of detecting cancer, we must prioritize minimizing the number of false negatives (i.e. a patient with cancer which is not detected). Not detecting cancer is much more dangerous than detecting cancer on a healthy patient.\n",
    "Thus, we must focus on **recall**.*\n",
    "\n",
    "B) Spam email prediction (positive:spam, negative: non-spam). The spam detected emails would be automatically removed.\n",
    "*In the case of detecting spam, it is more important to minimize false positives. We do not want important emails to be classified as spam. That clearly has more consequences than letting some spam emails through. Thus, we must focus on **precision**.*\n",
    "$$\\text{precision}=\\dfrac{\\text{TP}}{\\text{TP}+\\text{FP}} , \\text{recall}=\\dfrac{\\text{TP}}{\\text{TP}+\\text{FN}}$$\n",
    "\n",
    "1. A: precision, B: recall\n",
    "2. **A: recall, B: precision**\n",
    "3. A: precision, B: precision"
   ]
  },
  {
   "cell_type": "markdown",
   "metadata": {},
   "source": [
    "# Question 4\n",
    "Import the given files `X.csv` and `Y.csv` in the Materials section, as the inputs and targets. \n",
    "The provided files can also be imported from Boston dataset available in sklearn, where the features LSTAT and RM are used as inputs and target is used as output."
   ]
  },
  {
   "cell_type": "code",
   "execution_count": null,
   "metadata": {},
   "outputs": [],
   "source": [
    "import pandas as pd\n",
    "import numpy as np\n",
    "import matplotlib.pyplot as plt\n",
    "X = pd.read_csv(\"X.csv\")\n",
    "Y = pd.read_csv(\"Y.csv\")\n",
    "\n",
    "X.shape, Y.shape"
   ]
  },
  {
   "cell_type": "code",
   "execution_count": null,
   "metadata": {},
   "outputs": [],
   "source": [
    "# Split the dataset to training and test set\n",
    "from sklearn.model_selection import train_test_split\n",
    "X_train, X_test, Y_train, Y_test = train_test_split(X, Y, test_size=0.3, random_state=1)\n",
    "\n",
    "# using Linear Regression (LR) without considering bias (intercept), \n",
    "# which option is the root-mean-square error (RMSE) over test data:\n",
    "from sklearn.linear_model import LinearRegression\n",
    "reg = LinearRegression(fit_intercept=False).fit(X_train, Y_train)\n",
    "\n",
    "from sklearn.metrics import mean_squared_error\n",
    "rmse_test = np.sqrt(mean_squared_error(Y_test, reg.predict(X_test)))\n",
    "print(\"The RMSE over test data is {:.2f}\".format(rmse_test))"
   ]
  },
  {
   "cell_type": "markdown",
   "metadata": {},
   "source": [
    "The answer is:\n",
    "\n",
    "1. **5.26**\n",
    "2. 6.34\n",
    "3. 4.62"
   ]
  },
  {
   "cell_type": "markdown",
   "metadata": {},
   "source": [
    "# Question 5\n",
    "compute average ($K$-folds cross-validation error) and variance of the root-mean-square error (RMSE) on test folds, for $K = 2$ and $K = 5$."
   ]
  },
  {
   "cell_type": "code",
   "execution_count": null,
   "metadata": {},
   "outputs": [],
   "source": [
    "from sklearn.model_selection import KFold\n",
    "k_list = [2, 5]\n",
    "for k in k_list:\n",
    "    rmse_test = []\n",
    "    kf = KFold(n_splits=k, random_state=1, shuffle=True)\n",
    "    for train_idx, val_idx in kf.split(X_train):\n",
    "        X_train_kf, X_val_kf = X_train.iloc[train_idx, :], X_train.iloc[val_idx, :]\n",
    "        Y_train_kf, Y_val_kf = Y_train.iloc[train_idx, :], Y_train.iloc[val_idx, :]\n",
    "        \n",
    "        reg = LinearRegression(fit_intercept=False).fit(X_train_kf, Y_train_kf)\n",
    "        rmse_test.append(np.sqrt(mean_squared_error(Y_val_kf, reg.predict(X_val_kf))))\n",
    "    print(f\"k={k}: average={np.mean(rmse_test):.2f}, variance={np.var(rmse_test):.2f}.\")"
   ]
  },
  {
   "cell_type": "markdown",
   "metadata": {},
   "source": [
    "The answer is option **3.** \n",
    "1. K=2 : average = 6.23, variance = 0.21 / k=5: average = 6.12 , variance = 0.64\n",
    "2. K=2 : average = 5.38 , variance = 0.43 / k=5: average = 5.53, variance = 0.38\n",
    "3. **K=2 : average = 6.03 , variance = 0.37 / k=5: average = 5.72 , variance = 0.50**"
   ]
  }
 ],
 "metadata": {
  "kernelspec": {
   "display_name": "Python 3",
   "language": "python",
   "name": "python3"
  },
  "language_info": {
   "codemirror_mode": {
    "name": "ipython",
    "version": 3
   },
   "file_extension": ".py",
   "mimetype": "text/x-python",
   "name": "python",
   "nbconvert_exporter": "python",
   "pygments_lexer": "ipython3",
   "version": "3.7.6"
  }
 },
 "nbformat": 4,
 "nbformat_minor": 4
}
